{
 "cells": [
  {
   "cell_type": "code",
   "execution_count": 30,
   "id": "decab6c0-eec5-4d2c-8cb6-0ead1d53e874",
   "metadata": {},
   "outputs": [],
   "source": [
    "import numpy as np"
   ]
  },
  {
   "cell_type": "code",
   "execution_count": 31,
   "id": "cee13593-dca7-4b8a-92e0-634ca70982c9",
   "metadata": {},
   "outputs": [],
   "source": [
    "np.set_printoptions(suppress=True, linewidth=300,precision=2)"
   ]
  },
  {
   "cell_type": "code",
   "execution_count": 32,
   "id": "ff4dc5dd-b966-4330-8e43-8d3ed32e3c75",
   "metadata": {},
   "outputs": [
    {
     "name": "stdout",
     "output_type": "stream",
     "text": [
      "[[48010226.           nan    35000.   ...         nan         nan     9452.96]\n",
      " [57693261.           nan    30000.   ...         nan         nan     4679.7 ]\n",
      " [59432726.           nan    15000.   ...         nan         nan     1969.83]\n",
      " ...\n",
      " [50415990.           nan    10000.   ...         nan         nan     2185.64]\n",
      " [46154151.           nan         nan ...         nan         nan     3199.4 ]\n",
      " [66055249.           nan    10000.   ...         nan         nan      301.9 ]]\n"
     ]
    }
   ],
   "source": [
    "data0=np.genfromtxt(\"loan-data.csv\",delimiter=\";\", skip_header=1, autostrip=True)\n",
    "print(data0)"
   ]
  },
  {
   "cell_type": "markdown",
   "id": "0a8f0304-eca1-4605-b77d-32e799d5b41c",
   "metadata": {},
   "source": [
    "Separ tabelul in 2:unul cu stringuri (string_cols) si unul cu numere (numeric_cols)"
   ]
  },
  {
   "cell_type": "code",
   "execution_count": 33,
   "id": "e434eeef-e3c5-420b-9554-9d05d251cfad",
   "metadata": {},
   "outputs": [
    {
     "name": "stdout",
     "output_type": "stream",
     "text": [
      "[ 0  2  4  6  7 13]\n",
      "[ 1  3  5  8  9 10 11 12]\n"
     ]
    },
    {
     "name": "stderr",
     "output_type": "stream",
     "text": [
      "C:\\Users\\EMELNIAP8\\AppData\\Local\\Temp\\ipykernel_1580\\4260221152.py:1: RuntimeWarning: Mean of empty slice\n",
      "  numeric_cols_indices=np.where(np.isnan(np.nanmean(data0, axis=0))==False)[0]\n",
      "C:\\Users\\EMELNIAP8\\AppData\\Local\\Temp\\ipykernel_1580\\4260221152.py:2: RuntimeWarning: Mean of empty slice\n",
      "  string_cols_indices=np.where(np.isnan(np.nanmean(data0, axis=0)))[0]\n"
     ]
    }
   ],
   "source": [
    "numeric_cols_indices=np.where(np.isnan(np.nanmean(data0, axis=0))==False)[0]\n",
    "string_cols_indices=np.where(np.isnan(np.nanmean(data0, axis=0)))[0]\n",
    "print(numeric_cols_indices)\n",
    "print(string_cols_indices)"
   ]
  },
  {
   "cell_type": "code",
   "execution_count": 34,
   "id": "08576096-0d5f-4c9e-a861-d5cbed8557c4",
   "metadata": {},
   "outputs": [
    {
     "name": "stdout",
     "output_type": "stream",
     "text": [
      "[[48010226.      35000.      35000.         13.33     1184.86     9452.96]\n",
      " [57693261.      30000.      30000.           nan      938.57     4679.7 ]\n",
      " [59432726.      15000.      15000.           nan      494.86     1969.83]\n",
      " ...\n",
      " [50415990.      10000.      10000.           nan         nan     2185.64]\n",
      " [46154151.           nan    10000.         16.55      354.3      3199.4 ]\n",
      " [66055249.      10000.      10000.           nan      309.97      301.9 ]]\n",
      "\n",
      "[['May-15' 'Current' '36 months' ... 'Verified' 'https://www.lendingclub.com/browse/loanDetail.action?loan_id=48010226' 'CA']\n",
      " ['' 'Current' '36 months' ... 'Source Verified' 'https://www.lendingclub.com/browse/loanDetail.action?loan_id=57693261' 'NY']\n",
      " ['Sep-15' 'Current' '36 months' ... 'Verified' 'https://www.lendingclub.com/browse/loanDetail.action?loan_id=59432726' 'PA']\n",
      " ...\n",
      " ['Jun-15' 'Current' '36 months' ... 'Source Verified' 'https://www.lendingclub.com/browse/loanDetail.action?loan_id=50415990' 'CA']\n",
      " ['Apr-15' 'Current' '36 months' ... 'Source Verified' 'https://www.lendingclub.com/browse/loanDetail.action?loan_id=46154151' 'OH']\n",
      " ['Dec-15' 'Current' '36 months' ... '' 'https://www.lendingclub.com/browse/loanDetail.action?loan_id=66055249' 'IL']]\n"
     ]
    }
   ],
   "source": [
    "numeric_cols=np.genfromtxt(\"loan-data.csv\",delimiter=\";\", skip_header=1, usecols=numeric_cols_indices,autostrip=True)\n",
    "string_cols=np.genfromtxt(\"loan-data.csv\",delimiter=\";\", skip_header=1, usecols=string_cols_indices, dtype=np.str_,autostrip=True)\n",
    "print(numeric_cols, end=\"\\n\\n\")\n",
    "print(string_cols)"
   ]
  },
  {
   "cell_type": "code",
   "execution_count": 35,
   "id": "067996ad-1582-42dc-bd15-e8278f5807b2",
   "metadata": {},
   "outputs": [
    {
     "name": "stdout",
     "output_type": "stream",
     "text": [
      "['id' 'loan_amount' 'funded_amount' 'int_rate' 'installment' 'total_payment']\n",
      "['issue_date' 'loan_status' 'term' 'grade' 'sub_grade' 'verification_status' 'url' 'addr_state']\n"
     ]
    }
   ],
   "source": [
    "numeric_header=np.genfromtxt(\"loan-data.csv\",delimiter=\";\", skip_footer=numeric_cols.shape[0], usecols=numeric_cols_indices,autostrip=True, dtype=np.str_)\n",
    "string_header=np.genfromtxt(\"loan-data.csv\",delimiter=\";\", skip_footer=string_cols.shape[0], usecols=string_cols_indices,autostrip=True, dtype=np.str_)\n",
    "print(numeric_header)\n",
    "print(string_header)"
   ]
  },
  {
   "cell_type": "markdown",
   "id": "c06b2b57-9277-415b-ae38-22fb8e444314",
   "metadata": {},
   "source": [
    "\"Issue Date\""
   ]
  },
  {
   "cell_type": "code",
   "execution_count": 36,
   "id": "e61be89b-2406-41bd-bcf0-dc8d10ffc742",
   "metadata": {},
   "outputs": [
    {
     "name": "stdout",
     "output_type": "stream",
     "text": [
      "['' 'Apr-15' 'Aug-15' 'Dec-15' 'Feb-15' 'Jan-15' 'Jul-15' 'Jun-15' 'Mar-15' 'May-15' 'Nov-15' 'Oct-15' 'Sep-15']\n"
     ]
    }
   ],
   "source": [
    "print(np.unique(string_cols[:,0]))"
   ]
  },
  {
   "cell_type": "markdown",
   "id": "f7d140a8-4a65-4d7c-b9fd-92e6ad5546eb",
   "metadata": {},
   "source": [
    "Elimin '-15'din coloana 'issue-date' de pe toate liniile, pentru ca are aceeasi valoare pe toate liniile"
   ]
  },
  {
   "cell_type": "code",
   "execution_count": 37,
   "id": "85e20ae5-73b7-4b63-b3a6-0667b3dab542",
   "metadata": {},
   "outputs": [
    {
     "name": "stdout",
     "output_type": "stream",
     "text": [
      "['' 'Apr' 'Aug' 'Dec' 'Feb' 'Jan' 'Jul' 'Jun' 'Mar' 'May' 'Nov' 'Oct' 'Sep']\n"
     ]
    }
   ],
   "source": [
    "string_cols[:,0] = np.char.replace(string_cols[:,0],  '-15',  '')\n",
    "print(np.unique(string_cols[:,0]))"
   ]
  },
  {
   "cell_type": "markdown",
   "id": "4ca57e87-b297-4a2f-8a00-fba617960e49",
   "metadata": {},
   "source": [
    "Inlocuiesc fiecare luna cu echivalentul ei numeric ('Jan'->'1')"
   ]
  },
  {
   "cell_type": "code",
   "execution_count": 38,
   "id": "e00ff02d-48c9-4e9e-9679-fadc0a594afc",
   "metadata": {},
   "outputs": [],
   "source": [
    "months=np.array([\"\", \"Jan\",\"Feb\",\"Mar\",\"Apr\",\"May\",\"Jun\",\"Jul\",\"Aug\",\"Sep\",\"Oct\", \"Nov\", \"Dec\"])"
   ]
  },
  {
   "cell_type": "code",
   "execution_count": 39,
   "id": "590431b6-8dd7-4c28-b094-a5652f80d825",
   "metadata": {},
   "outputs": [
    {
     "name": "stdout",
     "output_type": "stream",
     "text": [
      "['0' '1' '10' '11' '12' '2' '3' '4' '5' '6' '7' '8' '9']\n"
     ]
    }
   ],
   "source": [
    "for i in range(months.shape[0]):\n",
    "    string_cols[:,0]=np.where(string_cols[:,0]==months[i], str(i), string_cols[:,0])\n",
    "    \n",
    "print(np.unique(string_cols[:,0]))"
   ]
  },
  {
   "cell_type": "code",
   "execution_count": 40,
   "id": "7b3fc6e6-e239-46dd-b617-903317eae842",
   "metadata": {},
   "outputs": [],
   "source": [
    "string_header[0]=\"issue_month\""
   ]
  },
  {
   "cell_type": "markdown",
   "id": "aa1cf850-6c86-484d-9b00-9f0e7215ceb0",
   "metadata": {},
   "source": [
    "\"Loan Status\""
   ]
  },
  {
   "cell_type": "code",
   "execution_count": 41,
   "id": "9bfa4193-639b-443c-8d81-a22bee3039ee",
   "metadata": {},
   "outputs": [
    {
     "name": "stdout",
     "output_type": "stream",
     "text": [
      "['' 'Charged Off' 'Current' 'Default' 'Fully Paid' 'In Grace Period' 'Issued' 'Late (16-30 days)' 'Late (31-120 days)']\n",
      "['Current' 'Current' 'Current' ... 'Current' 'Current' 'Current']\n"
     ]
    }
   ],
   "source": [
    "print(np.unique(string_cols[:,1]))\n",
    "print(string_cols[:,1])"
   ]
  },
  {
   "cell_type": "markdown",
   "id": "0145e717-4a29-4304-bf1a-eda2307935df",
   "metadata": {},
   "source": [
    "\"Charged Off\" = debitorul nu a platit o perioada lunga si banca considera creditul pierdere, inchide oficial creditul in contabilitate \"Current\" = imprumutul este la zi, toate platile au fost facute conform graficului \"Default\" = debitorul este in incapacitate de plata \"Fully Paid\" = creditul a fost platit integral \"In Grace Period\" = debitorul a intarziat plata, dar se afla inca in perioada de gratie \"Issued\" = creditul a fost acordat recent, banii au fost transferati catre debitor \"Late\" = plata intarziata"
   ]
  },
  {
   "cell_type": "markdown",
   "id": "e837d1ac-4050-4daa-bf47-473db160ce41",
   "metadata": {},
   "source": [
    "Pentru a determina daca un candidat e stabil financiar si eligibil pentru credit, putem foosi doar 2 valori:0 si 1. [\"charged off\", \"default\", \"late (31-120 days)\", no data]->0, iar [\"current\", \"fully paid\", \"in grace period\", \"issued\", \"late(16-30 days)\"]->1\n"
   ]
  },
  {
   "cell_type": "code",
   "execution_count": 42,
   "id": "8eab2279-ddb6-4b51-a59f-57a7173db180",
   "metadata": {},
   "outputs": [],
   "source": [
    "good_status=np.array([\"Current\", \"Fully Paid\", \"In Grace Period\", \"Issued\", \"Late (16-30 days)\"])\n",
    "string_cols[:,1]=np.where(np.isin(string_cols[:,1], good_status), \"1\" , \"0\")"
   ]
  },
  {
   "cell_type": "code",
   "execution_count": 43,
   "id": "036a72b8-99f5-4599-bdf9-ea2cd11800de",
   "metadata": {},
   "outputs": [
    {
     "name": "stdout",
     "output_type": "stream",
     "text": [
      "['0' '1']\n"
     ]
    }
   ],
   "source": [
    "print(np.unique(string_cols[:,1]))"
   ]
  },
  {
   "cell_type": "markdown",
   "id": "89f71713-ba20-4c4f-a24c-b9f15a255105",
   "metadata": {},
   "source": [
    "\"Term\""
   ]
  },
  {
   "cell_type": "code",
   "execution_count": 44,
   "id": "3eeae3ac-4c94-456c-8a4f-91aaeda464c7",
   "metadata": {},
   "outputs": [
    {
     "name": "stdout",
     "output_type": "stream",
     "text": [
      "['' '36 months' '60 months']\n"
     ]
    }
   ],
   "source": [
    "print(np.unique(string_cols[:,2]))"
   ]
  },
  {
   "cell_type": "code",
   "execution_count": 45,
   "id": "236e2258-602a-430d-90d7-96040517888e",
   "metadata": {},
   "outputs": [
    {
     "name": "stdout",
     "output_type": "stream",
     "text": [
      "['' '36' '60']\n"
     ]
    }
   ],
   "source": [
    "string_cols[:,2] = np.char.replace(string_cols[:,2],  ' months',  '')\n",
    "print(np.unique(string_cols[:,2]))"
   ]
  },
  {
   "cell_type": "markdown",
   "id": "fd96847e-88dd-47f0-9e39-937de63e89df",
   "metadata": {},
   "source": [
    "Redenumesc coloana, ca se fie clar ca acestea sun luni:"
   ]
  },
  {
   "cell_type": "code",
   "execution_count": 46,
   "id": "d24d82bf-6c78-4d66-b3a9-0b40be763349",
   "metadata": {},
   "outputs": [],
   "source": [
    "string_header[2]=\"term_months\""
   ]
  },
  {
   "cell_type": "markdown",
   "id": "3c6c2041-9b58-43f6-a7c7-1f13b5f35eaf",
   "metadata": {},
   "source": [
    "In loc de datele lipsa, setez 60 luni (worst case):"
   ]
  },
  {
   "cell_type": "code",
   "execution_count": 47,
   "id": "113f06e4-8683-4cf1-9d99-11219552c41d",
   "metadata": {},
   "outputs": [
    {
     "name": "stdout",
     "output_type": "stream",
     "text": [
      "['36' '60']\n"
     ]
    }
   ],
   "source": [
    "string_cols[:,2] = np.where(string_cols[:,2]==\"\", \"60\", string_cols[:,2])\n",
    "print(np.unique(string_cols[:,2]))"
   ]
  },
  {
   "cell_type": "markdown",
   "id": "b58f1bba-167b-4fdf-93cb-133b27c6b725",
   "metadata": {},
   "source": [
    "\"Grade\" , \"Subgrade\"= clasa de risc a unui debitor"
   ]
  },
  {
   "cell_type": "code",
   "execution_count": 48,
   "id": "ad839a68-6408-469c-be7f-f742d860add7",
   "metadata": {},
   "outputs": [
    {
     "name": "stdout",
     "output_type": "stream",
     "text": [
      "['' 'A' 'B' 'C' 'D' 'E' 'F' 'G']\n",
      "['' 'A1' 'A2' 'A3' 'A4' 'A5' 'B1' 'B2' 'B3' 'B4' 'B5' 'C1' 'C2' 'C3' 'C4' 'C5' 'D1' 'D2' 'D3' 'D4' 'D5' 'E1' 'E2' 'E3' 'E4' 'E5' 'F1' 'F2' 'F3' 'F4' 'F5' 'G1' 'G2' 'G3' 'G4' 'G5']\n"
     ]
    }
   ],
   "source": [
    "print(np.unique(string_cols[:,3]))\n",
    "print(np.unique(string_cols[:,4]))"
   ]
  },
  {
   "cell_type": "code",
   "execution_count": 49,
   "id": "fc0ab7a5-8d26-4efc-b908-bc1d8c99282c",
   "metadata": {},
   "outputs": [
    {
     "name": "stdout",
     "output_type": "stream",
     "text": [
      "['' 'A1' 'A2' 'A3' 'A4' 'A5' 'B1' 'B2' 'B3' 'B4' 'B5' 'C1' 'C2' 'C3' 'C4' 'C5' 'D1' 'D2' 'D3' 'D4' 'D5' 'E1' 'E2' 'E3' 'E4' 'E5' 'F1' 'F2' 'F3' 'F4' 'F5' 'G1' 'G2' 'G3' 'G4' 'G5']\n"
     ]
    }
   ],
   "source": [
    "string_cols[:,4]=np.where((string_cols[:,4]==\"\") & (string_cols[:,3]!=\"\"), np.char.add(string_cols[:,3],\"5\"),string_cols[:,4])\n",
    "print(np.unique(string_cols[:,4]))"
   ]
  },
  {
   "cell_type": "code",
   "execution_count": 50,
   "id": "adcb92ba-0d24-4cdd-a781-163737df9209",
   "metadata": {},
   "outputs": [
    {
     "name": "stdout",
     "output_type": "stream",
     "text": [
      "['A1' 'A2' 'A3' 'A4' 'A5' 'B1' 'B2' 'B3' 'B4' 'B5' 'C1' 'C2' 'C3' 'C4' 'C5' 'D1' 'D2' 'D3' 'D4' 'D5' 'E1' 'E2' 'E3' 'E4' 'E5' 'F1' 'F2' 'F3' 'F4' 'F5' 'G1' 'G2' 'G3' 'G4' 'G5']\n"
     ]
    }
   ],
   "source": [
    "string_cols[:,4]=np.where(string_cols[:,4]==\"\", \"G5\",string_cols[:,4])\n",
    "print(np.unique(string_cols[:,4]))"
   ]
  },
  {
   "cell_type": "code",
   "execution_count": 51,
   "id": "eeccf897-b771-40e1-957b-42ab9ceecb5f",
   "metadata": {},
   "outputs": [
    {
     "name": "stdout",
     "output_type": "stream",
     "text": [
      "[['5' '1' '36' ... 'Verified' 'https://www.lendingclub.com/browse/loanDetail.action?loan_id=48010226' 'CA']\n",
      " ['0' '1' '36' ... 'Source Verified' 'https://www.lendingclub.com/browse/loanDetail.action?loan_id=57693261' 'NY']\n",
      " ['9' '1' '36' ... 'Verified' 'https://www.lendingclub.com/browse/loanDetail.action?loan_id=59432726' 'PA']\n",
      " ...\n",
      " ['6' '1' '36' ... 'Source Verified' 'https://www.lendingclub.com/browse/loanDetail.action?loan_id=50415990' 'CA']\n",
      " ['4' '1' '36' ... 'Source Verified' 'https://www.lendingclub.com/browse/loanDetail.action?loan_id=46154151' 'OH']\n",
      " ['12' '1' '36' ... '' 'https://www.lendingclub.com/browse/loanDetail.action?loan_id=66055249' 'IL']]\n",
      "\n",
      "['issue_month' 'loan_status' 'term_months' 'sub_grade' 'verification_status' 'url' 'addr_state']\n"
     ]
    }
   ],
   "source": [
    "string_cols=np.delete(string_cols,3,axis=1)\n",
    "string_header=np.delete(string_header,3)\n",
    "print(string_cols, end=\"\\n\\n\")\n",
    "print(string_header)"
   ]
  },
  {
   "cell_type": "markdown",
   "id": "33fda73e-670a-49c5-89a5-b9f219c3df24",
   "metadata": {},
   "source": [
    "Asociez cate un numar pentru fiecare subgrade:"
   ]
  },
  {
   "cell_type": "code",
   "execution_count": 52,
   "id": "0f672039-8e55-4493-89c4-c287d320b71f",
   "metadata": {},
   "outputs": [
    {
     "name": "stdout",
     "output_type": "stream",
     "text": [
      "{np.str_('A1'): 1, np.str_('A2'): 2, np.str_('A3'): 3, np.str_('A4'): 4, np.str_('A5'): 5, np.str_('B1'): 6, np.str_('B2'): 7, np.str_('B3'): 8, np.str_('B4'): 9, np.str_('B5'): 10, np.str_('C1'): 11, np.str_('C2'): 12, np.str_('C3'): 13, np.str_('C4'): 14, np.str_('C5'): 15, np.str_('D1'): 16, np.str_('D2'): 17, np.str_('D3'): 18, np.str_('D4'): 19, np.str_('D5'): 20, np.str_('E1'): 21, np.str_('E2'): 22, np.str_('E3'): 23, np.str_('E4'): 24, np.str_('E5'): 25, np.str_('F1'): 26, np.str_('F2'): 27, np.str_('F3'): 28, np.str_('F4'): 29, np.str_('F5'): 30, np.str_('G1'): 31, np.str_('G2'): 32, np.str_('G3'): 33, np.str_('G4'): 34, np.str_('G5'): 35}\n"
     ]
    }
   ],
   "source": [
    "subgrade_keys=np.unique(string_cols[:,3])\n",
    "subgrade_values=range(1,np.unique(string_cols[:,3]).shape[0]+1)\n",
    "subgrade_dict=dict(zip(subgrade_keys,subgrade_values))\n",
    "print(subgrade_dict)"
   ]
  },
  {
   "cell_type": "code",
   "execution_count": 53,
   "id": "ba03d841-b93d-4bc6-a7d5-0e3349c595bd",
   "metadata": {},
   "outputs": [],
   "source": [
    "string_cols[:,3]=[str(subgrade_dict[key]) for key in string_cols[:,3]]"
   ]
  },
  {
   "cell_type": "code",
   "execution_count": 54,
   "id": "299c4966-64e0-468b-97d3-18303856cece",
   "metadata": {},
   "outputs": [
    {
     "name": "stdout",
     "output_type": "stream",
     "text": [
      "['1' '10' '11' '12' '13' '14' '15' '16' '17' '18' '19' '2' '20' '21' '22' '23' '24' '25' '26' '27' '28' '29' '3' '30' '31' '32' '33' '34' '35' '4' '5' '6' '7' '8' '9']\n",
      "['13' '5' '10' ... '5' '17' '4']\n"
     ]
    }
   ],
   "source": [
    "print(np.unique(string_cols[:,3]))\n",
    "print(string_cols[:,3])"
   ]
  },
  {
   "cell_type": "markdown",
   "id": "fe6b8985-b501-42fe-a20a-b712118b72e1",
   "metadata": {},
   "source": [
    "\"Verification Status\""
   ]
  },
  {
   "cell_type": "code",
   "execution_count": 55,
   "id": "5f0da998-f734-4798-8be1-c774735c9c71",
   "metadata": {},
   "outputs": [
    {
     "name": "stdout",
     "output_type": "stream",
     "text": [
      "['' 'Not Verified' 'Source Verified' 'Verified']\n"
     ]
    }
   ],
   "source": [
    "print(np.unique(string_cols[:,4]))"
   ]
  },
  {
   "cell_type": "code",
   "execution_count": 56,
   "id": "160b08af-4e4f-4268-b116-5bb72cfd4d24",
   "metadata": {},
   "outputs": [
    {
     "name": "stdout",
     "output_type": "stream",
     "text": [
      "['0' '1']\n"
     ]
    }
   ],
   "source": [
    "string_cols[:,4] = np.where((string_cols[:,4] == '') | (string_cols[:,4] == 'Not Verified'), 0, 1)\n",
    "print(np.unique(string_cols[:,4]))"
   ]
  },
  {
   "cell_type": "markdown",
   "id": "46087059-50e0-4f17-a201-b9d6e9604f82",
   "metadata": {},
   "source": [
    "\"URL\""
   ]
  },
  {
   "cell_type": "code",
   "execution_count": 57,
   "id": "b515ba77-8c62-45a1-8c68-ab431badb4df",
   "metadata": {},
   "outputs": [
    {
     "name": "stdout",
     "output_type": "stream",
     "text": [
      "['https://www.lendingclub.com/browse/loanDetail.action?loan_id=12606806' 'https://www.lendingclub.com/browse/loanDetail.action?loan_id=13026045' 'https://www.lendingclub.com/browse/loanDetail.action?loan_id=1312426' ... 'https://www.lendingclub.com/browse/loanDetail.action?loan_id=8138291'\n",
      " 'https://www.lendingclub.com/browse/loanDetail.action?loan_id=8214572' 'https://www.lendingclub.com/browse/loanDetail.action?loan_id=849994']\n"
     ]
    }
   ],
   "source": [
    "print(np.unique(string_cols[:,5]))"
   ]
  },
  {
   "cell_type": "code",
   "execution_count": 58,
   "id": "cb86607c-6d92-492a-b3a0-78b8f1ae6202",
   "metadata": {},
   "outputs": [
    {
     "name": "stdout",
     "output_type": "stream",
     "text": [
      "['48010226' '57693261' '59432726' ... '50415990' '46154151' '66055249']\n"
     ]
    },
    {
     "name": "stderr",
     "output_type": "stream",
     "text": [
      "C:\\Users\\EMELNIAP8\\AppData\\Local\\Temp\\ipykernel_1580\\3706755230.py:1: DeprecationWarning: `np.chararray` is deprecated and will be removed from the main namespace in the future. Use an array with a string or bytes dtype instead.\n",
      "  string_cols[:,5]=np.chararray.strip(string_cols[:,5], \"https://www.lendingclub.com/browse/loanDetail.action?loan_id=\")\n"
     ]
    }
   ],
   "source": [
    "string_cols[:,5]=np.chararray.strip(string_cols[:,5], \"https://www.lendingclub.com/browse/loanDetail.action?loan_id=\")\n",
    "print(string_cols[:,5])"
   ]
  },
  {
   "cell_type": "code",
   "execution_count": 59,
   "id": "0f69d33f-96f2-420f-8731-ebb5fcf2db81",
   "metadata": {},
   "outputs": [
    {
     "data": {
      "text/plain": [
       "array([48010226, 57693261, 59432726, ..., 50415990, 46154151, 66055249], shape=(10000,), dtype=int32)"
      ]
     },
     "execution_count": 59,
     "metadata": {},
     "output_type": "execute_result"
    }
   ],
   "source": [
    "numeric_cols[:,0].astype(dtype = np.int32)"
   ]
  },
  {
   "cell_type": "code",
   "execution_count": 60,
   "id": "1d9db964-1382-4929-b432-0443926faddd",
   "metadata": {},
   "outputs": [
    {
     "data": {
      "text/plain": [
       "array([48010226, 57693261, 59432726, ..., 50415990, 46154151, 66055249], shape=(10000,), dtype=int32)"
      ]
     },
     "execution_count": 60,
     "metadata": {},
     "output_type": "execute_result"
    }
   ],
   "source": [
    "string_cols[:,5].astype(dtype = np.int32)"
   ]
  },
  {
   "cell_type": "code",
   "execution_count": 61,
   "id": "ddb1546c-f680-482a-88db-5007b5c66a82",
   "metadata": {},
   "outputs": [
    {
     "data": {
      "text/plain": [
       "True"
      ]
     },
     "execution_count": 61,
     "metadata": {},
     "output_type": "execute_result"
    }
   ],
   "source": [
    "np.array_equal(numeric_cols[:,0].astype(dtype = np.int32), string_cols[:,5].astype(dtype = np.int32))"
   ]
  },
  {
   "cell_type": "code",
   "execution_count": 64,
   "id": "4c201dcb-2caa-48c2-873a-6bdf89372a4b",
   "metadata": {},
   "outputs": [],
   "source": [
    "string_cols = np.delete(string_cols, 5, axis = 1)\n",
    "string_header = np.delete(string_header, 5)"
   ]
  },
  {
   "cell_type": "code",
   "execution_count": 65,
   "id": "aa1920df-3ce2-4149-a4b0-1932a022e624",
   "metadata": {},
   "outputs": [
    {
     "ename": "IndexError",
     "evalue": "index 5 is out of bounds for axis 1 with size 5",
     "output_type": "error",
     "traceback": [
      "\u001b[31m---------------------------------------------------------------------------\u001b[39m",
      "\u001b[31mIndexError\u001b[39m                                Traceback (most recent call last)",
      "\u001b[36mCell\u001b[39m\u001b[36m \u001b[39m\u001b[32mIn[65]\u001b[39m\u001b[32m, line 1\u001b[39m\n\u001b[32m----> \u001b[39m\u001b[32m1\u001b[39m \u001b[38;5;28mprint\u001b[39m(\u001b[43mstring_cols\u001b[49m\u001b[43m[\u001b[49m\u001b[43m:\u001b[49m\u001b[43m,\u001b[49m\u001b[32;43m5\u001b[39;49m\u001b[43m]\u001b[49m)\n\u001b[32m      2\u001b[39m \u001b[38;5;28mprint\u001b[39m(string_header)\n\u001b[32m      3\u001b[39m \u001b[38;5;28mprint\u001b[39m(numeric_cols[:,\u001b[32m0\u001b[39m])\n",
      "\u001b[31mIndexError\u001b[39m: index 5 is out of bounds for axis 1 with size 5"
     ]
    }
   ],
   "source": [
    "print(string_cols[:,5])\n",
    "print(string_header)\n",
    "print(numeric_cols[:,0])\n",
    "print(numeric_header)"
   ]
  },
  {
   "cell_type": "code",
   "execution_count": null,
   "id": "d6676964-fe06-474b-a13d-b2cd7e5af2dd",
   "metadata": {},
   "outputs": [],
   "source": []
  },
  {
   "cell_type": "code",
   "execution_count": null,
   "id": "013bf9bf-93b7-4b3e-ad1b-b75ef9ad7a89",
   "metadata": {},
   "outputs": [],
   "source": []
  }
 ],
 "metadata": {
  "kernelspec": {
   "display_name": "Python 3 (ipykernel)",
   "language": "python",
   "name": "python3"
  },
  "language_info": {
   "codemirror_mode": {
    "name": "ipython",
    "version": 3
   },
   "file_extension": ".py",
   "mimetype": "text/x-python",
   "name": "python",
   "nbconvert_exporter": "python",
   "pygments_lexer": "ipython3",
   "version": "3.11.6"
  }
 },
 "nbformat": 4,
 "nbformat_minor": 5
}
