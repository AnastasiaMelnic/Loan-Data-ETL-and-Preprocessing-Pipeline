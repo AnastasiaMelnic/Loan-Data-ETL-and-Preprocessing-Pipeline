{
 "cells": [
  {
   "cell_type": "code",
   "execution_count": 1,
   "id": "ce8a528f-6b19-42a2-90a5-75ee44b7ba9e",
   "metadata": {},
   "outputs": [],
   "source": [
    "import numpy as np"
   ]
  },
  {
   "cell_type": "code",
   "execution_count": 2,
   "id": "ed4b9c40-258b-4d35-a94c-243ed33f6eb5",
   "metadata": {},
   "outputs": [],
   "source": [
    "np.set_printoptions(suppress=True, linewidth=300,precision=2)"
   ]
  },
  {
   "cell_type": "code",
   "execution_count": 3,
   "id": "f679b701-5749-4ce3-be97-5ae2a83bcb0e",
   "metadata": {},
   "outputs": [
    {
     "name": "stdout",
     "output_type": "stream",
     "text": [
      "[[48010226.           nan    35000.   ...         nan         nan     9452.96]\n",
      " [57693261.           nan    30000.   ...         nan         nan     4679.7 ]\n",
      " [59432726.           nan    15000.   ...         nan         nan     1969.83]\n",
      " ...\n",
      " [50415990.           nan    10000.   ...         nan         nan     2185.64]\n",
      " [46154151.           nan         nan ...         nan         nan     3199.4 ]\n",
      " [66055249.           nan    10000.   ...         nan         nan      301.9 ]]\n"
     ]
    }
   ],
   "source": [
    "data0=np.genfromtxt(\"loan-data.csv\",delimiter=\";\", skip_header=1, autostrip=True)\n",
    "print(data0)"
   ]
  },
  {
   "cell_type": "markdown",
   "id": "fe1fd83c-5213-429c-a7cc-97510267d85f",
   "metadata": {},
   "source": [
    "Separ tabelul in 2:unul cu stringuri (string_cols) si unul cu numere (numeric_cols)"
   ]
  },
  {
   "cell_type": "code",
   "execution_count": 4,
   "id": "36a2b9c5-e76e-4195-8dde-ce4782ac8d94",
   "metadata": {},
   "outputs": [
    {
     "name": "stdout",
     "output_type": "stream",
     "text": [
      "[ 0  2  4  6  7 13]\n",
      "[ 1  3  5  8  9 10 11 12]\n"
     ]
    },
    {
     "name": "stderr",
     "output_type": "stream",
     "text": [
      "C:\\Users\\EMELNIAP8\\AppData\\Local\\Temp\\ipykernel_23368\\4260221152.py:1: RuntimeWarning: Mean of empty slice\n",
      "  numeric_cols_indices=np.where(np.isnan(np.nanmean(data0, axis=0))==False)[0]\n",
      "C:\\Users\\EMELNIAP8\\AppData\\Local\\Temp\\ipykernel_23368\\4260221152.py:2: RuntimeWarning: Mean of empty slice\n",
      "  string_cols_indices=np.where(np.isnan(np.nanmean(data0, axis=0)))[0]\n"
     ]
    }
   ],
   "source": [
    "numeric_cols_indices=np.where(np.isnan(np.nanmean(data0, axis=0))==False)[0]\n",
    "string_cols_indices=np.where(np.isnan(np.nanmean(data0, axis=0)))[0]\n",
    "print(numeric_cols_indices)\n",
    "print(string_cols_indices)"
   ]
  },
  {
   "cell_type": "code",
   "execution_count": 5,
   "id": "d3a24218-6865-4061-abac-fa27fd0f28a6",
   "metadata": {},
   "outputs": [
    {
     "name": "stdout",
     "output_type": "stream",
     "text": [
      "[[48010226.      35000.      35000.         13.33     1184.86     9452.96]\n",
      " [57693261.      30000.      30000.           nan      938.57     4679.7 ]\n",
      " [59432726.      15000.      15000.           nan      494.86     1969.83]\n",
      " ...\n",
      " [50415990.      10000.      10000.           nan         nan     2185.64]\n",
      " [46154151.           nan    10000.         16.55      354.3      3199.4 ]\n",
      " [66055249.      10000.      10000.           nan      309.97      301.9 ]]\n",
      "\n",
      "[['May-15' 'Current' '36 months' ... 'Verified' 'https://www.lendingclub.com/browse/loanDetail.action?loan_id=48010226' 'CA']\n",
      " ['' 'Current' '36 months' ... 'Source Verified' 'https://www.lendingclub.com/browse/loanDetail.action?loan_id=57693261' 'NY']\n",
      " ['Sep-15' 'Current' '36 months' ... 'Verified' 'https://www.lendingclub.com/browse/loanDetail.action?loan_id=59432726' 'PA']\n",
      " ...\n",
      " ['Jun-15' 'Current' '36 months' ... 'Source Verified' 'https://www.lendingclub.com/browse/loanDetail.action?loan_id=50415990' 'CA']\n",
      " ['Apr-15' 'Current' '36 months' ... 'Source Verified' 'https://www.lendingclub.com/browse/loanDetail.action?loan_id=46154151' 'OH']\n",
      " ['Dec-15' 'Current' '36 months' ... '' 'https://www.lendingclub.com/browse/loanDetail.action?loan_id=66055249' 'IL']]\n"
     ]
    }
   ],
   "source": [
    "numeric_cols=np.genfromtxt(\"loan-data.csv\",delimiter=\";\", skip_header=1, usecols=numeric_cols_indices,autostrip=True)\n",
    "string_cols=np.genfromtxt(\"loan-data.csv\",delimiter=\";\", skip_header=1, usecols=string_cols_indices, dtype=np.str_,autostrip=True)\n",
    "print(numeric_cols, end=\"\\n\\n\")\n",
    "print(string_cols)"
   ]
  },
  {
   "cell_type": "code",
   "execution_count": 6,
   "id": "6e3b3f0e-ec8e-4010-b8b6-38b09a80c4ec",
   "metadata": {},
   "outputs": [
    {
     "name": "stdout",
     "output_type": "stream",
     "text": [
      "['id' 'loan_amount' 'funded_amount' 'int_rate' 'installment' 'total_payment']\n",
      "['issue_date' 'loan_status' 'term' 'grade' 'sub_grade' 'verification_status' 'url' 'addr_state']\n"
     ]
    }
   ],
   "source": [
    "numeric_header=np.genfromtxt(\"loan-data.csv\",delimiter=\";\", skip_footer=numeric_cols.shape[0], usecols=numeric_cols_indices,autostrip=True, dtype=np.str_)\n",
    "string_header=np.genfromtxt(\"loan-data.csv\",delimiter=\";\", skip_footer=string_cols.shape[0], usecols=string_cols_indices,autostrip=True, dtype=np.str_)\n",
    "print(numeric_header)\n",
    "print(string_header)"
   ]
  },
  {
   "cell_type": "markdown",
   "id": "765b60d4-c0f2-4957-9cc5-2d82be16a38a",
   "metadata": {},
   "source": [
    "\"Issue Date\""
   ]
  },
  {
   "cell_type": "code",
   "execution_count": 7,
   "id": "4775abcd-a814-4644-88f0-2263e0586268",
   "metadata": {},
   "outputs": [
    {
     "name": "stdout",
     "output_type": "stream",
     "text": [
      "['' 'Apr-15' 'Aug-15' 'Dec-15' 'Feb-15' 'Jan-15' 'Jul-15' 'Jun-15' 'Mar-15' 'May-15' 'Nov-15' 'Oct-15' 'Sep-15']\n"
     ]
    }
   ],
   "source": [
    "print(np.unique(string_cols[:,0]))"
   ]
  },
  {
   "cell_type": "markdown",
   "id": "3c1c31d1-06c3-432e-b8b1-9a7c56ec1d6e",
   "metadata": {},
   "source": [
    "Elimin '-15'din coloana 'issue-date' de pe toate liniile, pentru ca are aceeasi valoare pe toate liniile"
   ]
  },
  {
   "cell_type": "code",
   "execution_count": 8,
   "id": "3aeefa1c-1707-43fe-8ac0-ddcc3f93de87",
   "metadata": {},
   "outputs": [
    {
     "name": "stdout",
     "output_type": "stream",
     "text": [
      "['' 'Apr' 'Aug' 'Dec' 'Feb' 'Jan' 'Jul' 'Jun' 'Mar' 'May' 'Nov' 'Oct' 'Sep']\n"
     ]
    }
   ],
   "source": [
    "string_cols[:,0] = np.char.replace(string_cols[:,0],  '-15',  '')\n",
    "print(np.unique(string_cols[:,0]))"
   ]
  },
  {
   "cell_type": "markdown",
   "id": "4f4ed833-3bea-42eb-809d-34ae85a79fc0",
   "metadata": {},
   "source": [
    "Inlocuiesc fiecare luna cu echivalentul ei numeric ('Jan'->'1')"
   ]
  },
  {
   "cell_type": "code",
   "execution_count": 9,
   "id": "5615698b-baf7-4647-8f50-de961dfbb9f0",
   "metadata": {},
   "outputs": [],
   "source": [
    "months=np.array([\"\", \"Jan\",\"Feb\",\"Mar\",\"Apr\",\"May\",\"Jun\",\"Jul\",\"Aug\",\"Sep\",\"Oct\", \"Nov\", \"Dec\"])"
   ]
  },
  {
   "cell_type": "code",
   "execution_count": 10,
   "id": "da739dba-3581-4da6-95f9-40d1dc627719",
   "metadata": {},
   "outputs": [
    {
     "name": "stdout",
     "output_type": "stream",
     "text": [
      "['0' '1' '10' '11' '12' '2' '3' '4' '5' '6' '7' '8' '9']\n"
     ]
    }
   ],
   "source": [
    "for i in range(months.shape[0]):\n",
    "    string_cols[:,0]=np.where(string_cols[:,0]==months[i], str(i), string_cols[:,0])\n",
    "    \n",
    "print(np.unique(string_cols[:,0]))"
   ]
  },
  {
   "cell_type": "code",
   "execution_count": 11,
   "id": "2d4b9b76-e126-4211-b0ba-7bc68cc40565",
   "metadata": {},
   "outputs": [],
   "source": [
    "string_header[0]=\"issue_month\""
   ]
  },
  {
   "cell_type": "markdown",
   "id": "9c8f94ce-be66-4d21-a413-9a1c0324f2dd",
   "metadata": {},
   "source": [
    "\"Loan Status\""
   ]
  },
  {
   "cell_type": "code",
   "execution_count": 12,
   "id": "989e00d0-2ee7-4f9c-b6ee-174ec828c9d8",
   "metadata": {},
   "outputs": [
    {
     "name": "stdout",
     "output_type": "stream",
     "text": [
      "['' 'Charged Off' 'Current' 'Default' 'Fully Paid' 'In Grace Period' 'Issued' 'Late (16-30 days)' 'Late (31-120 days)']\n",
      "['Current' 'Current' 'Current' ... 'Current' 'Current' 'Current']\n"
     ]
    }
   ],
   "source": [
    "print(np.unique(string_cols[:,1]))\n",
    "print(string_cols[:,1])"
   ]
  },
  {
   "cell_type": "markdown",
   "id": "a94f3c5a-d894-49ed-88c7-feacaf4c4010",
   "metadata": {},
   "source": [
    "\"Charged Off\" = debitorul nu a platit o perioada lunga si banca considera creditul pierdere, inchide oficial creditul in contabilitate\n",
    "\"Current\" = imprumutul este la zi, toate platile au fost facute conform graficului\n",
    "\"Default\" = debitorul este in incapacitate de plata\n",
    "\"Fully Paid\" = creditul a fost platit integral\n",
    "\"In Grace Period\" = debitorul a intarziat plata, dar se afla inca in perioada de gratie\n",
    "\"Issued\" = creditul a fost acordat recent, banii au fost transferati catre debitor\n",
    "\"Late\" = plata intarziata"
   ]
  },
  {
   "cell_type": "markdown",
   "id": "c3cc8f61-1818-4be9-b786-091dcc6b4499",
   "metadata": {},
   "source": [
    "Pentru a determina daca un candidat e stabil financiar si eligibil pentru credit, putem foosi doar 2 valori:0 si 1. [\"charged off\", \"default\", \"late (31-120 days)\", no data]->0, iar [\"current\", \"fully paid\", \"in grace period\", \"issued\", \"late(16-30 days)\"]->1"
   ]
  },
  {
   "cell_type": "code",
   "execution_count": 13,
   "id": "986de29f-5b62-477b-9df7-f4f31ded26c1",
   "metadata": {},
   "outputs": [],
   "source": [
    "good_status=np.array([\"Current\", \"Fully Paid\", \"In Grace Period\", \"Issued\", \"Late (16-30 days)\"])\n",
    "string_cols[:,1]=np.where(np.isin(string_cols[:,1], good_status), \"1\" , \"0\")\n"
   ]
  },
  {
   "cell_type": "code",
   "execution_count": 14,
   "id": "d1ce358c-83fc-4d45-b20b-c3a937e4d3e3",
   "metadata": {},
   "outputs": [
    {
     "name": "stdout",
     "output_type": "stream",
     "text": [
      "['0' '1']\n"
     ]
    }
   ],
   "source": [
    "print(np.unique(string_cols[:,1]))"
   ]
  },
  {
   "cell_type": "markdown",
   "id": "baf5dace-425e-4464-b094-213bc3e13ce8",
   "metadata": {},
   "source": [
    "\"Term\""
   ]
  },
  {
   "cell_type": "code",
   "execution_count": 15,
   "id": "541febed-2464-48a2-b553-321805dfe36e",
   "metadata": {},
   "outputs": [
    {
     "name": "stdout",
     "output_type": "stream",
     "text": [
      "['' '36 months' '60 months']\n"
     ]
    }
   ],
   "source": [
    "print(np.unique(string_cols[:,2]))"
   ]
  },
  {
   "cell_type": "code",
   "execution_count": 16,
   "id": "3e6264d1-b2f0-429a-b741-b07893a049b0",
   "metadata": {},
   "outputs": [
    {
     "name": "stdout",
     "output_type": "stream",
     "text": [
      "['' '36' '60']\n"
     ]
    }
   ],
   "source": [
    "string_cols[:,2] = np.char.replace(string_cols[:,2],  ' months',  '')\n",
    "print(np.unique(string_cols[:,2]))"
   ]
  },
  {
   "cell_type": "markdown",
   "id": "c179d2c8-c086-4bf5-8afd-df505f22cba8",
   "metadata": {},
   "source": [
    "Redenumesc coloana, ca se fie clar ca acestea sun luni:"
   ]
  },
  {
   "cell_type": "code",
   "execution_count": 17,
   "id": "57242a2c-388d-451f-be17-6e0e61086a0b",
   "metadata": {},
   "outputs": [],
   "source": [
    "string_header[2]=\"term_months\""
   ]
  },
  {
   "cell_type": "markdown",
   "id": "33d8bb06-581f-4800-81b3-0922b592a792",
   "metadata": {},
   "source": [
    "In loc de datele lipsa, setez 60 luni (worst case):"
   ]
  },
  {
   "cell_type": "code",
   "execution_count": 18,
   "id": "405bf685-611b-4f65-929c-0b838e34f652",
   "metadata": {},
   "outputs": [
    {
     "name": "stdout",
     "output_type": "stream",
     "text": [
      "['36' '60']\n"
     ]
    }
   ],
   "source": [
    "string_cols[:,2] = np.where(string_cols[:,2]==\"\", \"60\", string_cols[:,2])\n",
    "print(np.unique(string_cols[:,2]))"
   ]
  },
  {
   "cell_type": "markdown",
   "id": "9531747e-2624-4ce1-95fe-72ab4205add7",
   "metadata": {},
   "source": [
    "\"Grade\" , \"Subgrade\"= clasa de risc a unui debitor"
   ]
  },
  {
   "cell_type": "code",
   "execution_count": 19,
   "id": "76c23907-1714-4a2f-a168-35cc3c1065fb",
   "metadata": {},
   "outputs": [
    {
     "name": "stdout",
     "output_type": "stream",
     "text": [
      "['' 'A' 'B' 'C' 'D' 'E' 'F' 'G']\n",
      "['' 'A1' 'A2' 'A3' 'A4' 'A5' 'B1' 'B2' 'B3' 'B4' 'B5' 'C1' 'C2' 'C3' 'C4' 'C5' 'D1' 'D2' 'D3' 'D4' 'D5' 'E1' 'E2' 'E3' 'E4' 'E5' 'F1' 'F2' 'F3' 'F4' 'F5' 'G1' 'G2' 'G3' 'G4' 'G5']\n"
     ]
    }
   ],
   "source": [
    "print(np.unique(string_cols[:,3]))\n",
    "print(np.unique(string_cols[:,4]))"
   ]
  },
  {
   "cell_type": "code",
   "execution_count": 20,
   "id": "2bc76d87-ca4d-4a63-b4bf-e83b4bf8845d",
   "metadata": {},
   "outputs": [
    {
     "name": "stdout",
     "output_type": "stream",
     "text": [
      "['' 'A1' 'A2' 'A3' 'A4' 'A5' 'B1' 'B2' 'B3' 'B4' 'B5' 'C1' 'C2' 'C3' 'C4' 'C5' 'D1' 'D2' 'D3' 'D4' 'D5' 'E1' 'E2' 'E3' 'E4' 'E5' 'F1' 'F2' 'F3' 'F4' 'F5' 'G1' 'G2' 'G3' 'G4' 'G5']\n"
     ]
    }
   ],
   "source": [
    "string_cols[:,4]=np.where((string_cols[:,4]==\"\") & (string_cols[:,3]!=\"\"), np.char.add(string_cols[:,3],\"5\"),string_cols[:,4])\n",
    "print(np.unique(string_cols[:,4]))"
   ]
  },
  {
   "cell_type": "code",
   "execution_count": 21,
   "id": "fbb44c51-2265-4d23-8a0d-737957b399fa",
   "metadata": {},
   "outputs": [
    {
     "name": "stdout",
     "output_type": "stream",
     "text": [
      "['A1' 'A2' 'A3' 'A4' 'A5' 'B1' 'B2' 'B3' 'B4' 'B5' 'C1' 'C2' 'C3' 'C4' 'C5' 'D1' 'D2' 'D3' 'D4' 'D5' 'E1' 'E2' 'E3' 'E4' 'E5' 'F1' 'F2' 'F3' 'F4' 'F5' 'G1' 'G2' 'G3' 'G4' 'G5']\n"
     ]
    }
   ],
   "source": [
    "string_cols[:,4]=np.where(string_cols[:,4]==\"\", \"G5\",string_cols[:,4])\n",
    "print(np.unique(string_cols[:,4]))"
   ]
  },
  {
   "cell_type": "code",
   "execution_count": 22,
   "id": "391c30c2-5342-4020-be57-c03ce24c806e",
   "metadata": {},
   "outputs": [
    {
     "name": "stdout",
     "output_type": "stream",
     "text": [
      "[['5' '1' '36' ... 'Verified' 'https://www.lendingclub.com/browse/loanDetail.action?loan_id=48010226' 'CA']\n",
      " ['0' '1' '36' ... 'Source Verified' 'https://www.lendingclub.com/browse/loanDetail.action?loan_id=57693261' 'NY']\n",
      " ['9' '1' '36' ... 'Verified' 'https://www.lendingclub.com/browse/loanDetail.action?loan_id=59432726' 'PA']\n",
      " ...\n",
      " ['6' '1' '36' ... 'Source Verified' 'https://www.lendingclub.com/browse/loanDetail.action?loan_id=50415990' 'CA']\n",
      " ['4' '1' '36' ... 'Source Verified' 'https://www.lendingclub.com/browse/loanDetail.action?loan_id=46154151' 'OH']\n",
      " ['12' '1' '36' ... '' 'https://www.lendingclub.com/browse/loanDetail.action?loan_id=66055249' 'IL']]\n",
      "\n",
      "['issue_month' 'loan_status' 'term_months' 'sub_grade' 'verification_status' 'url' 'addr_state']\n"
     ]
    }
   ],
   "source": [
    "string_cols=np.delete(string_cols,3,axis=1)\n",
    "string_header=np.delete(string_header,3)\n",
    "print(string_cols, end=\"\\n\\n\")\n",
    "print(string_header)"
   ]
  },
  {
   "cell_type": "markdown",
   "id": "28263e51-fa87-4e51-ae19-d5bc19e4e2f3",
   "metadata": {},
   "source": [
    "Asociez cate un numar pentru fiecare subgrade:"
   ]
  },
  {
   "cell_type": "code",
   "execution_count": 23,
   "id": "cd09c8c1-4bbe-4cfe-8a59-11c7014fed38",
   "metadata": {},
   "outputs": [
    {
     "name": "stdout",
     "output_type": "stream",
     "text": [
      "{np.str_('A1'): 1, np.str_('A2'): 2, np.str_('A3'): 3, np.str_('A4'): 4, np.str_('A5'): 5, np.str_('B1'): 6, np.str_('B2'): 7, np.str_('B3'): 8, np.str_('B4'): 9, np.str_('B5'): 10, np.str_('C1'): 11, np.str_('C2'): 12, np.str_('C3'): 13, np.str_('C4'): 14, np.str_('C5'): 15, np.str_('D1'): 16, np.str_('D2'): 17, np.str_('D3'): 18, np.str_('D4'): 19, np.str_('D5'): 20, np.str_('E1'): 21, np.str_('E2'): 22, np.str_('E3'): 23, np.str_('E4'): 24, np.str_('E5'): 25, np.str_('F1'): 26, np.str_('F2'): 27, np.str_('F3'): 28, np.str_('F4'): 29, np.str_('F5'): 30, np.str_('G1'): 31, np.str_('G2'): 32, np.str_('G3'): 33, np.str_('G4'): 34, np.str_('G5'): 35}\n"
     ]
    }
   ],
   "source": [
    "subgrade_keys=np.unique(string_cols[:,3])\n",
    "subgrade_values=range(1,np.unique(string_cols[:,3]).shape[0]+1)\n",
    "subgrade_dict=dict(zip(subgrade_keys,subgrade_values))\n",
    "print(subgrade_dict)"
   ]
  },
  {
   "cell_type": "code",
   "execution_count": 24,
   "id": "265668be-eb91-4c3e-b20d-d81ac090f883",
   "metadata": {},
   "outputs": [],
   "source": [
    "string_cols[:,3]=[str(subgrade_dict[key]) for key in string_cols[:,3]]"
   ]
  },
  {
   "cell_type": "code",
   "execution_count": 25,
   "id": "8b434539-2faa-4ee7-977d-36d9926c0cb6",
   "metadata": {},
   "outputs": [
    {
     "name": "stdout",
     "output_type": "stream",
     "text": [
      "['1' '10' '11' '12' '13' '14' '15' '16' '17' '18' '19' '2' '20' '21' '22' '23' '24' '25' '26' '27' '28' '29' '3' '30' '31' '32' '33' '34' '35' '4' '5' '6' '7' '8' '9']\n",
      "['13' '5' '10' ... '5' '17' '4']\n"
     ]
    }
   ],
   "source": [
    "print(np.unique(string_cols[:,3]))\n",
    "print(string_cols[:,3])"
   ]
  },
  {
   "cell_type": "markdown",
   "id": "d32d492b-1aba-4938-a841-8a4f427b4ac3",
   "metadata": {},
   "source": [
    "\"Verification Status\""
   ]
  },
  {
   "cell_type": "code",
   "execution_count": 26,
   "id": "a46f8b1f-db55-415e-bcab-ce405902f821",
   "metadata": {},
   "outputs": [
    {
     "name": "stdout",
     "output_type": "stream",
     "text": [
      "['' 'Not Verified' 'Source Verified' 'Verified']\n"
     ]
    }
   ],
   "source": [
    "print(np.unique(string_cols[:,4]))"
   ]
  },
  {
   "cell_type": "code",
   "execution_count": 27,
   "id": "6610f9f2-703b-402e-b231-230671741465",
   "metadata": {},
   "outputs": [
    {
     "name": "stdout",
     "output_type": "stream",
     "text": [
      "['0' '1']\n"
     ]
    }
   ],
   "source": [
    "bad_status=np.array([\"\", \"Not Verified\"])\n",
    "string_cols[:,4]=np.where(np.isin(string_cols[:,4], bad_status), \"0\", \"1\")\n",
    "print(np.unique(string_cols[:,4]))"
   ]
  },
  {
   "cell_type": "markdown",
   "id": "da7616a7-0ce3-497f-b0d6-996dbd5db213",
   "metadata": {},
   "source": [
    "\"URL\""
   ]
  },
  {
   "cell_type": "code",
   "execution_count": 28,
   "id": "f3435524-a09c-4ff8-a351-046478b59b8e",
   "metadata": {},
   "outputs": [
    {
     "name": "stdout",
     "output_type": "stream",
     "text": [
      "['https://www.lendingclub.com/browse/loanDetail.action?loan_id=12606806' 'https://www.lendingclub.com/browse/loanDetail.action?loan_id=13026045' 'https://www.lendingclub.com/browse/loanDetail.action?loan_id=1312426' ... 'https://www.lendingclub.com/browse/loanDetail.action?loan_id=8138291'\n",
      " 'https://www.lendingclub.com/browse/loanDetail.action?loan_id=8214572' 'https://www.lendingclub.com/browse/loanDetail.action?loan_id=849994']\n"
     ]
    }
   ],
   "source": [
    "print(np.unique(string_cols[:,5]))"
   ]
  },
  {
   "cell_type": "markdown",
   "id": "9d525dc1-3b8b-4923-b1a2-5d9b9628b59a",
   "metadata": {},
   "source": [
    "Difera doar ID-urile, restul pot sterge:"
   ]
  },
  {
   "cell_type": "code",
   "execution_count": 29,
   "id": "40fb3206-8c05-402f-a0ef-ab5d317d87d6",
   "metadata": {},
   "outputs": [],
   "source": [
    "string_cols[:,5]=np.char.replace(string_cols[:,5], \"https://www.lendingclub.com/browse/loanDetail.action?loan_id=\",\"\")\n"
   ]
  },
  {
   "cell_type": "code",
   "execution_count": 30,
   "id": "69a71049-54cb-493d-a951-99e74cb1f804",
   "metadata": {},
   "outputs": [
    {
     "name": "stdout",
     "output_type": "stream",
     "text": [
      "(array(['12606806', '13026045', '1312426', ..., '8138291', '8214572', '849994'], shape=(10000,), dtype='<U69'), array([1, 1, 1, ..., 1, 1, 1], shape=(10000,)))\n"
     ]
    }
   ],
   "source": [
    "print(np.unique(string_cols[:,5], return_counts=True))"
   ]
  },
  {
   "cell_type": "code",
   "execution_count": 31,
   "id": "00c935de-cc5d-4bf2-a657-880fb84d3ff0",
   "metadata": {},
   "outputs": [
    {
     "data": {
      "text/plain": [
       "True"
      ]
     },
     "execution_count": 31,
     "metadata": {},
     "output_type": "execute_result"
    }
   ],
   "source": [
    "np.array_equal(string_cols[:,5].astype(np.int64), numeric_cols[:,0].astype(np.int64))"
   ]
  },
  {
   "cell_type": "markdown",
   "id": "93b7efe1-98c8-4ae9-9a30-c3a7c9d566b4",
   "metadata": {},
   "source": [
    "Avand in vedere ca coloana \"URL\" contine aceeasi info ca si coloana \"ID\", voi sterge coloana \"URL\""
   ]
  },
  {
   "cell_type": "code",
   "execution_count": 32,
   "id": "f983514f-767c-4e97-b521-d424c8e01374",
   "metadata": {},
   "outputs": [
    {
     "name": "stdout",
     "output_type": "stream",
     "text": [
      "['issue_month' 'loan_status' 'term_months' 'sub_grade' 'verification_status' 'addr_state']\n",
      "[['5' '1' '36' '13' '1' 'CA']\n",
      " ['0' '1' '36' '5' '1' 'NY']\n",
      " ['9' '1' '36' '10' '1' 'PA']\n",
      " ...\n",
      " ['6' '1' '36' '5' '1' 'CA']\n",
      " ['4' '1' '36' '17' '1' 'OH']\n",
      " ['12' '1' '36' '4' '0' 'IL']]\n",
      "\n",
      "['id' 'loan_amount' 'funded_amount' 'int_rate' 'installment' 'total_payment']\n",
      "[[48010226.      35000.      35000.         13.33     1184.86     9452.96]\n",
      " [57693261.      30000.      30000.           nan      938.57     4679.7 ]\n",
      " [59432726.      15000.      15000.           nan      494.86     1969.83]\n",
      " ...\n",
      " [50415990.      10000.      10000.           nan         nan     2185.64]\n",
      " [46154151.           nan    10000.         16.55      354.3      3199.4 ]\n",
      " [66055249.      10000.      10000.           nan      309.97      301.9 ]]\n"
     ]
    }
   ],
   "source": [
    "string_cols=np.delete(string_cols, 5, axis=1)\n",
    "string_header=np.delete(string_header, 5)\n",
    "print(string_header)\n",
    "print(string_cols, end=\"\\n\\n\")\n",
    "print(numeric_header)\n",
    "print(numeric_cols)"
   ]
  },
  {
   "cell_type": "markdown",
   "id": "1408ad65-51e4-4064-8979-39458db7b865",
   "metadata": {},
   "source": [
    "\"State Address\""
   ]
  },
  {
   "cell_type": "code",
   "execution_count": 33,
   "id": "741c8ca9-76af-4785-8190-6f5a3408c420",
   "metadata": {},
   "outputs": [
    {
     "name": "stdout",
     "output_type": "stream",
     "text": [
      "['issue_month' 'loan_status' 'term_months' 'sub_grade' 'verification_status' 'state_address']\n",
      "['' 'AK' 'AL' 'AR' 'AZ' 'CA' 'CO' 'CT' 'DC' 'DE' 'FL' 'GA' 'HI' 'IL' 'IN' 'KS' 'KY' 'LA' 'MA' 'MD' 'ME' 'MI' 'MN' 'MO' 'MS' 'MT' 'NC' 'ND' 'NE' 'NH' 'NJ' 'NM' 'NV' 'NY' 'OH' 'OK' 'OR' 'PA' 'RI' 'SC' 'SD' 'TN' 'TX' 'UT' 'VA' 'VT' 'WA' 'WI' 'WV' 'WY']\n"
     ]
    }
   ],
   "source": [
    "string_header[5]=\"state_address\"\n",
    "print(string_header)\n",
    "print(np.unique(string_cols[:,5]))"
   ]
  },
  {
   "cell_type": "markdown",
   "id": "839dcf94-af2a-44f1-b7da-c215a7489c5d",
   "metadata": {},
   "source": [
    "Impart statele pe zone geografice:"
   ]
  },
  {
   "cell_type": "code",
   "execution_count": 34,
   "id": "96c05d4b-d530-40fd-b2d8-41e4a410f9d9",
   "metadata": {},
   "outputs": [],
   "source": [
    "west_states=np.array([\"WA\", \"OR\", \"CA\", \"NV\", \"ID\", \"MT\", \"WY\", \"UT\", \"CO\", \"AZ\", \"NM\", \"HI\", \"AK\"])\n",
    "east_states=np.array([\"PA\", \"NY\", \"NJ\", \"CT\", \"MA\", \"VT\", \"NH\", \"ME\", \"RI\"])\n",
    "south_states=np.array([\"TX\", \"OK\",\"AR\", \"LA\", \"MS\", \"AL\",\"TN\", \"KY\",\"FL\", \"GA\", \"SC\",\"NC\",\"VA\",\"WV\",\"MD\",\"DE\",\"DC\"])\n",
    "midwest_states=np.array([\"ND\", \"SD\", \"NE\", \"KS\", \"MN\", \"IA\", \"MO\", \"WI\", \"IL\", \"IN\", \"MI\", \"OH\"])"
   ]
  },
  {
   "cell_type": "code",
   "execution_count": 35,
   "id": "bb2919b8-6987-4892-945c-8dfcef38725e",
   "metadata": {},
   "outputs": [],
   "source": [
    "string_cols[:,5]=np.where(np.isin(string_cols[:,5], west_states), \"1\", string_cols[:,5])\n",
    "string_cols[:,5]=np.where(np.isin(string_cols[:,5], south_states), \"2\", string_cols[:,5])\n",
    "string_cols[:,5]=np.where(np.isin(string_cols[:,5], midwest_states), \"3\", string_cols[:,5])\n",
    "string_cols[:,5]=np.where(np.isin(string_cols[:,5], east_states), \"4\", string_cols[:,5])\n",
    "string_cols[:,5]=np.where(string_cols[:,5]==\"\", \"0\", string_cols[:,5])"
   ]
  },
  {
   "cell_type": "code",
   "execution_count": 36,
   "id": "93db8ea7-d399-4d4d-9342-b847ed8d11eb",
   "metadata": {},
   "outputs": [
    {
     "name": "stdout",
     "output_type": "stream",
     "text": [
      "['0' '1' '2' '3' '4']\n",
      "['1' '4' '4' ... '1' '3' '3']\n"
     ]
    }
   ],
   "source": [
    "print(np.unique(string_cols[:,5]))\n",
    "print(string_cols[:,5])"
   ]
  },
  {
   "cell_type": "markdown",
   "id": "1923a568-f54d-4893-9a07-773cd11bd3c1",
   "metadata": {},
   "source": [
    "Convertesc string_cols in int:"
   ]
  },
  {
   "cell_type": "code",
   "execution_count": 37,
   "id": "0a159ef8-992f-497d-835a-52f0aa0280ed",
   "metadata": {},
   "outputs": [
    {
     "name": "stdout",
     "output_type": "stream",
     "text": [
      "[['5' '1' '36' '13' '1' '1']\n",
      " ['0' '1' '36' '5' '1' '4']\n",
      " ['9' '1' '36' '10' '1' '4']\n",
      " ...\n",
      " ['6' '1' '36' '5' '1' '1']\n",
      " ['4' '1' '36' '17' '1' '3']\n",
      " ['12' '1' '36' '4' '0' '3']]\n"
     ]
    }
   ],
   "source": [
    "print(string_cols)"
   ]
  },
  {
   "cell_type": "code",
   "execution_count": 38,
   "id": "35d7b478-f221-4295-8923-89ad54868f6a",
   "metadata": {},
   "outputs": [
    {
     "name": "stdout",
     "output_type": "stream",
     "text": [
      "[[ 5  1 36 13  1  1]\n",
      " [ 0  1 36  5  1  4]\n",
      " [ 9  1 36 10  1  4]\n",
      " ...\n",
      " [ 6  1 36  5  1  1]\n",
      " [ 4  1 36 17  1  3]\n",
      " [12  1 36  4  0  3]]\n"
     ]
    }
   ],
   "source": [
    "string_cols=string_cols.astype(np.int64)\n",
    "print(string_cols)"
   ]
  },
  {
   "cell_type": "markdown",
   "id": "df0fbfda-379c-4385-a773-5a5443211fbc",
   "metadata": {},
   "source": [
    "Datele numerice:"
   ]
  },
  {
   "cell_type": "code",
   "execution_count": 39,
   "id": "6e64f52d-bb1d-4d22-8fda-310bf758a126",
   "metadata": {},
   "outputs": [
    {
     "name": "stdout",
     "output_type": "stream",
     "text": [
      "['id' 'loan_amount' 'funded_amount' 'int_rate' 'installment' 'total_payment']\n",
      "[[48010226.      35000.      35000.         13.33     1184.86     9452.96]\n",
      " [57693261.      30000.      30000.           nan      938.57     4679.7 ]\n",
      " [59432726.      15000.      15000.           nan      494.86     1969.83]\n",
      " ...\n",
      " [50415990.      10000.      10000.           nan         nan     2185.64]\n",
      " [46154151.           nan    10000.         16.55      354.3      3199.4 ]\n",
      " [66055249.      10000.      10000.           nan      309.97      301.9 ]]\n"
     ]
    }
   ],
   "source": [
    "print(numeric_header)\n",
    "print(numeric_cols)"
   ]
  },
  {
   "cell_type": "markdown",
   "id": "ec4795c8-cdda-46fa-b802-859d235689b9",
   "metadata": {},
   "source": [
    "Verific care coloane contin valori nan:"
   ]
  },
  {
   "cell_type": "code",
   "execution_count": 40,
   "id": "f2c2c6d5-c713-4f00-99e3-e99dd54a173a",
   "metadata": {},
   "outputs": [
    {
     "data": {
      "text/plain": [
       "np.True_"
      ]
     },
     "execution_count": 40,
     "metadata": {},
     "output_type": "execute_result"
    }
   ],
   "source": [
    "np.all(np.isnan(numeric_cols[:,0])==False)"
   ]
  },
  {
   "cell_type": "markdown",
   "id": "77543aa1-f4d5-4694-9d42-c8760c937bd3",
   "metadata": {},
   "source": [
    "\"loan amount\" = suma pe care debitorul (persoana care ia creditul) a solicitat-o\n",
    "\"funded amount\" = suma efectiva care a fost finantata de creditor\n",
    "\"interest rate\" = rata de dobanda a bancii\n",
    "\"installment\" = rata lunara pe care trebuie sa o plateasca debitorul\n",
    "\"total payment\" = suma totala pe care o plateste debitorul (suma tuturor ratelor)"
   ]
  },
  {
   "cell_type": "code",
   "execution_count": 41,
   "id": "34110805-b8ab-4254-8a8c-f68b5722c505",
   "metadata": {},
   "outputs": [
    {
     "name": "stdout",
     "output_type": "stream",
     "text": [
      "['id' 'loan_amount' 'funded_amount' 'interest_rate' 'installment' 'total_payment']\n"
     ]
    }
   ],
   "source": [
    "numeric_header[3]=\"interest_rate\"\n",
    "print(numeric_header)"
   ]
  },
  {
   "cell_type": "markdown",
   "id": "e06a7a92-6c70-4b24-80a1-a0c848f6fe04",
   "metadata": {},
   "source": [
    "Valori worst case (in loc de nan): loan_amount->max, funded_amount->min, interest_rate->max, installment->max, total_payment->max"
   ]
  },
  {
   "cell_type": "code",
   "execution_count": 42,
   "id": "e2105c11-69d6-4a5a-b2ed-691af5eff535",
   "metadata": {},
   "outputs": [],
   "source": [
    "numeric_cols[:,1]=np.where(np.isnan(numeric_cols[:,1]), np.nanmax(numeric_cols[:,1]), numeric_cols[:,1])\n",
    "numeric_cols[:,2]=np.where(np.isnan(numeric_cols[:,2]), np.nanmin(numeric_cols[:,2]), numeric_cols[:,2])\n",
    "numeric_cols[:,3]=np.where(np.isnan(numeric_cols[:,3]), np.nanmax(numeric_cols[:,3]), numeric_cols[:,3])\n",
    "numeric_cols[:,4]=np.where(np.isnan(numeric_cols[:,4]), np.nanmax(numeric_cols[:,4]), numeric_cols[:,4])\n",
    "numeric_cols[:,5]=np.where(np.isnan(numeric_cols[:,5]), np.nanmax(numeric_cols[:,5]), numeric_cols[:,5])"
   ]
  },
  {
   "cell_type": "code",
   "execution_count": 43,
   "id": "57bb4c24-d667-4f82-8a61-c1a2e459aecf",
   "metadata": {},
   "outputs": [
    {
     "name": "stdout",
     "output_type": "stream",
     "text": [
      "[[48010226.      35000.      35000.         13.33     1184.86     9452.96]\n",
      " [57693261.      30000.      30000.         28.99      938.57     4679.7 ]\n",
      " [59432726.      15000.      15000.         28.99      494.86     1969.83]\n",
      " ...\n",
      " [50415990.      10000.      10000.         28.99     1372.97     2185.64]\n",
      " [46154151.      35000.      10000.         16.55      354.3      3199.4 ]\n",
      " [66055249.      10000.      10000.         28.99      309.97      301.9 ]]\n"
     ]
    }
   ],
   "source": [
    "print(numeric_cols)"
   ]
  },
  {
   "cell_type": "markdown",
   "id": "59a90d4b-8097-488b-be4f-c80dd11eaabe",
   "metadata": {},
   "source": [
    "Unesc cele 2 array-uri (string si numeric):"
   ]
  },
  {
   "cell_type": "code",
   "execution_count": 44,
   "id": "340cbee2-c3fa-4b44-a680-49c994d02567",
   "metadata": {},
   "outputs": [
    {
     "name": "stdout",
     "output_type": "stream",
     "text": [
      "(10000, 6)\n",
      "(10000, 6)\n"
     ]
    }
   ],
   "source": [
    "print(numeric_cols.shape)\n",
    "print(string_cols.shape)"
   ]
  },
  {
   "cell_type": "code",
   "execution_count": 45,
   "id": "f9b9a738-2038-4dad-bc74-348fa1ba3d25",
   "metadata": {},
   "outputs": [
    {
     "name": "stdout",
     "output_type": "stream",
     "text": [
      "(10000, 12)\n",
      "['id' 'loan_amount' 'funded_amount' 'interest_rate' 'installment' 'total_payment' 'issue_month' 'loan_status' 'term_months' 'sub_grade' 'verification_status' 'state_address']\n",
      "[[48010226.    35000.    35000. ...       13.        1.        1.]\n",
      " [57693261.    30000.    30000. ...        5.        1.        4.]\n",
      " [59432726.    15000.    15000. ...       10.        1.        4.]\n",
      " ...\n",
      " [50415990.    10000.    10000. ...        5.        1.        1.]\n",
      " [46154151.    35000.    10000. ...       17.        1.        3.]\n",
      " [66055249.    10000.    10000. ...        4.        0.        3.]]\n"
     ]
    }
   ],
   "source": [
    "preprocessed_data=np.hstack((numeric_cols, string_cols))\n",
    "full_header=np.hstack((numeric_header, string_header))\n",
    "print(preprocessed_data.shape)\n",
    "print(full_header)\n",
    "print(preprocessed_data)"
   ]
  },
  {
   "cell_type": "code",
   "execution_count": 46,
   "id": "c95b12c3-54c5-42f3-93fb-c2eec31c94f9",
   "metadata": {},
   "outputs": [
    {
     "data": {
      "text/plain": [
       "np.True_"
      ]
     },
     "execution_count": 46,
     "metadata": {},
     "output_type": "execute_result"
    }
   ],
   "source": [
    "np.all(np.isnan(preprocessed_data)==False)"
   ]
  },
  {
   "cell_type": "code",
   "execution_count": 47,
   "id": "bc442053-3159-4817-a3a0-a65fa698735c",
   "metadata": {},
   "outputs": [
    {
     "name": "stdout",
     "output_type": "stream",
     "text": [
      "[[  373332.     9950.     1000. ...       21.        0.        1.]\n",
      " [  575239.    12000.    12000. ...       25.        1.        2.]\n",
      " [  707689.    10000.    10000. ...       13.        1.        0.]\n",
      " ...\n",
      " [68614880.     5600.     5600. ...        8.        1.        1.]\n",
      " [68615915.     4000.     4000. ...       10.        1.        2.]\n",
      " [68616519.    21600.    21600. ...        3.        0.        2.]]\n"
     ]
    }
   ],
   "source": [
    "preprocessed_data=preprocessed_data[np.argsort(preprocessed_data[:,0])]\n",
    "print(preprocessed_data)"
   ]
  },
  {
   "cell_type": "markdown",
   "id": "00eb60f3-dd9d-417d-94ce-7a4f723563aa",
   "metadata": {},
   "source": [
    "Verific daca array-ul e corect sortat:"
   ]
  },
  {
   "cell_type": "code",
   "execution_count": 48,
   "id": "5a5c3fe6-5730-4ce3-b31c-2d92eabffbbd",
   "metadata": {},
   "outputs": [
    {
     "data": {
      "text/plain": [
       "array([   0,    1,    2, ..., 9997, 9998, 9999], shape=(10000,))"
      ]
     },
     "execution_count": 48,
     "metadata": {},
     "output_type": "execute_result"
    }
   ],
   "source": [
    "np.argsort(preprocessed_data[:,0])"
   ]
  },
  {
   "cell_type": "markdown",
   "id": "8ece15d1-19fa-400f-8636-3d5ac64883a2",
   "metadata": {},
   "source": [
    "Concatenez cele 2 array-uri:full_header si preprocessed_data"
   ]
  },
  {
   "cell_type": "code",
   "execution_count": 49,
   "id": "27e6ad4f-0306-40ea-90b0-7561cac0b8f4",
   "metadata": {},
   "outputs": [
    {
     "name": "stdout",
     "output_type": "stream",
     "text": [
      "[['id' 'loan_amount' 'funded_amount' ... 'sub_grade' 'verification_status' 'state_address']\n",
      " ['373332.0' '9950.0' '1000.0' ... '21.0' '0.0' '1.0']\n",
      " ['575239.0' '12000.0' '12000.0' ... '25.0' '1.0' '2.0']\n",
      " ...\n",
      " ['68614880.0' '5600.0' '5600.0' ... '8.0' '1.0' '1.0']\n",
      " ['68615915.0' '4000.0' '4000.0' ... '10.0' '1.0' '2.0']\n",
      " ['68616519.0' '21600.0' '21600.0' ... '3.0' '0.0' '2.0']]\n"
     ]
    }
   ],
   "source": [
    "full_data=np.vstack((full_header, preprocessed_data))\n",
    "print(full_data)"
   ]
  },
  {
   "cell_type": "code",
   "execution_count": 50,
   "id": "cbbeda55-39b6-46ae-8b87-95a2510cd364",
   "metadata": {},
   "outputs": [],
   "source": [
    "np.savetxt(\"Preprocessed_data.csv\", full_data, \"%s\", delimiter=\";\")"
   ]
  }
 ],
 "metadata": {
  "kernelspec": {
   "display_name": "Python 3 (ipykernel)",
   "language": "python",
   "name": "python3"
  },
  "language_info": {
   "codemirror_mode": {
    "name": "ipython",
    "version": 3
   },
   "file_extension": ".py",
   "mimetype": "text/x-python",
   "name": "python",
   "nbconvert_exporter": "python",
   "pygments_lexer": "ipython3",
   "version": "3.11.6"
  }
 },
 "nbformat": 4,
 "nbformat_minor": 5
}
